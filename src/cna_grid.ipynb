{
 "cells": [
  {
   "cell_type": "markdown",
   "id": "7c07f669-b757-494e-bda0-e2d08f5e2a0f",
   "metadata": {},
   "source": [
    "# CNA Grid\n",
    "\n",
    "Creates a common grid so models can be interpolated at 1/2 degree spacing."
   ]
  },
  {
   "cell_type": "code",
   "execution_count": 1,
   "id": "7ed1615a-f8cb-499e-bdbe-be7fa831ab3e",
   "metadata": {},
   "outputs": [],
   "source": [
    "import sys\n",
    "import os\n",
    "sys.path.append('../')\n",
    "from setup import CWD, SCRATCH_DIR, FIG_DIR, DATA_DIR\n",
    "import numpy as np\n",
    "import xarray as xr"
   ]
  },
  {
   "cell_type": "code",
   "execution_count": 2,
   "id": "3ce7f01e-b60b-4d3d-ba2e-563fc9e04140",
   "metadata": {},
   "outputs": [],
   "source": [
    "# Bounds for the region (CNA)\n",
    "xmin, xmax, ymin, ymax = -105+360, -90+360, 25, 50\n",
    "\n",
    "# Create the latitude and longitude arrays (1/2 degree spacing)\n",
    "latitudes = np.arange(ymin, ymax + 1, 0.5)\n",
    "longitudes = np.arange(xmin, xmax + 1, 0.5)\n",
    "\n",
    "# Create an empty dataset with the specified dimensions\n",
    "ds = xr.Dataset(\n",
    "    {\n",
    "        \"foo\": ([\"y\", \"x\"], np.empty((len(latitudes), len(longitudes))))\n",
    "    },\n",
    "    coords={\n",
    "        \"y\": latitudes,\n",
    "        \"x\": longitudes\n",
    "    }\n",
    ")\n",
    "grid_file = os.path.join(DATA_DIR, 'CNA_grid.nc')\n",
    "ds.to_netcdf(grid_file)"
   ]
  }
 ],
 "metadata": {
  "kernelspec": {
   "display_name": "llj",
   "language": "python",
   "name": "llj"
  },
  "language_info": {
   "codemirror_mode": {
    "name": "ipython",
    "version": 3
   },
   "file_extension": ".py",
   "mimetype": "text/x-python",
   "name": "python",
   "nbconvert_exporter": "python",
   "pygments_lexer": "ipython3",
   "version": "3.12.10"
  }
 },
 "nbformat": 4,
 "nbformat_minor": 5
}
