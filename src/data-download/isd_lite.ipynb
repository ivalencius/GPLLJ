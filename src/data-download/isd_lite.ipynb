{
 "cells": [
  {
   "cell_type": "markdown",
   "id": "c28ad013-2d05-4f4f-8b3a-103267a72670",
   "metadata": {},
   "source": [
    "# ISD-Lite\n",
    "\n",
    "Download near surface (10 m) wind speed data from the Integrated Surface Dataset (ISD) Lite. We use the [PyISD](https://github.com/CyrilJl/isd-fetch) package. We download `winddirection` [degrees] and `windspeed` [m/s] for 1979-01-01 till 2024-12-31."
   ]
  },
  {
   "cell_type": "code",
   "execution_count": null,
   "id": "92aed2df-f06b-45bf-996f-3c147b0728b3",
   "metadata": {},
   "outputs": [],
   "source": [
    "import sys\n",
    "import os\n",
    "sys.path.append('../../')\n",
    "from setup import CWD, SCRATCH_DIR, DATA_DIR\n",
    "print(CWD)\n",
    "print(DATA_DIR)\n",
    "print(SCRATCH_DIR)"
   ]
  },
  {
   "cell_type": "code",
   "execution_count": null,
   "id": "e709e4b7-1198-4869-a68b-60c88c9218ff",
   "metadata": {},
   "outputs": [],
   "source": [
    "from pyisd import IsdLite\n",
    "import polars as pl\n",
    "\n",
    "# Initialize the client\n",
    "isd = IsdLite(crs=4326, verbose=True)\n",
    "\n",
    "# View available stations\n",
    "isd.raw_metadata.sample(5)"
   ]
  },
  {
   "cell_type": "code",
   "execution_count": null,
   "id": "6d2fb424-f201-45a4-b655-6be385e726b3",
   "metadata": {},
   "outputs": [],
   "source": [
    "# xmin, ymin, xmax, ymax\n",
    "geometry = (-105, 25, -90, 50)  # CNA region"
   ]
  },
  {
   "cell_type": "code",
   "execution_count": null,
   "id": "bee76a18-2ab4-4f74-a592-7006fb797075",
   "metadata": {},
   "outputs": [],
   "source": [
    "# Query the data -> satellite era, want complete years\n",
    "cna_data = isd.get_data(\n",
    "    start='1979-01-01',\n",
    "    end='2024-12-31',\n",
    "    geometry=geometry,\n",
    "    organize_by='field'\n",
    ")"
   ]
  },
  {
   "cell_type": "markdown",
   "id": "2e7b3210-c16b-4581-9555-c9b33f49646d",
   "metadata": {},
   "source": [
    "## Create dataframes"
   ]
  },
  {
   "cell_type": "code",
   "execution_count": null,
   "id": "76c32b98-105e-4a53-bd88-8c6b535f767f",
   "metadata": {},
   "outputs": [],
   "source": [
    "windspeed = pl.from_pandas(cna_data['windspeed'].reset_index(drop=False))\\\n",
    "    .unpivot(\n",
    "        index='index',\n",
    "        variable_name='station',\n",
    "        value_name='windspeed'\n",
    "    ).rename({'index': 'time', 'station': 'USAF'})\n",
    "winddirection = pl.from_pandas(cna_data['winddirection'].reset_index(drop=False))\\\n",
    "    .unpivot(\n",
    "        index='index',\n",
    "        variable_name='station',\n",
    "        value_name='winddirection'\n",
    "    ).rename({'index': 'time', 'station': 'USAF'})\n",
    "wind_df = windspeed.join(winddirection, how='left', on=['USAF', 'time']).drop_nulls() # Remove rows with no data\n",
    "wind_df"
   ]
  },
  {
   "cell_type": "markdown",
   "id": "83204967-b46a-4015-9f44-916e05ef13ac",
   "metadata": {},
   "source": [
    "## Filter metadata to CNA stations\n",
    "\n",
    "A station can close then reopen so the same USAF number can have multiple listings in the metadata, this is okay we just need to keep it in mind in the future."
   ]
  },
  {
   "cell_type": "code",
   "execution_count": null,
   "id": "c12d4cb7-1713-4865-995b-46683cfb0c7b",
   "metadata": {},
   "outputs": [],
   "source": [
    "raw_metadata = pl.from_pandas(isd.raw_metadata[['USAF', 'WBAN', 'STATION NAME', 'ST', 'CALL', 'ELEV(M)', 'BEGIN', 'END', 'x', 'y']])\\\n",
    "    .rename({\n",
    "        'x': 'lon',\n",
    "        'y': 'lat',\n",
    "    })\n",
    "metadata = raw_metadata.filter(pl.col('USAF').is_in(wind_df['USAF'].unique()))\n",
    "metadata"
   ]
  },
  {
   "cell_type": "markdown",
   "id": "a91ad2fc-724c-4363-8fe3-ca48acaeb98f",
   "metadata": {},
   "source": [
    "## Save dataframes\n",
    "\n",
    "Whole ISD lite is 1.8 GB once null values are removed"
   ]
  },
  {
   "cell_type": "code",
   "execution_count": null,
   "id": "7f0cde3f-f1e1-458f-b455-9d8e581994fc",
   "metadata": {},
   "outputs": [],
   "source": [
    "isd_lite_metadata = os.path.join(DATA_DIR, 'isd_lite_cna_metadata.csv')\n",
    "isd_lite_file = os.path.join(SCRATCH_DIR, 'isd_lite_cna.csv')\n",
    "\n",
    "metadata.write_csv(isd_lite_metadata)\n",
    "wind_df.write_csv(isd_lite_file)"
   ]
  }
 ],
 "metadata": {
  "kernelspec": {
   "display_name": "llj",
   "language": "python",
   "name": "llj"
  },
  "language_info": {
   "codemirror_mode": {
    "name": "ipython",
    "version": 3
   },
   "file_extension": ".py",
   "mimetype": "text/x-python",
   "name": "python",
   "nbconvert_exporter": "python",
   "pygments_lexer": "ipython3",
   "version": "3.12.10"
  }
 },
 "nbformat": 4,
 "nbformat_minor": 5
}
