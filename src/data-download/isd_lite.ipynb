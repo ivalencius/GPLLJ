{
 "cells": [
  {
   "cell_type": "markdown",
   "id": "c28ad013-2d05-4f4f-8b3a-103267a72670",
   "metadata": {},
   "source": [
    "# ISD-Lite\n",
    "\n",
    "Download near surface (10 m) wind speed data from the Integrated Surface Dataset (ISD) Lite. We use the [PyISD](https://github.com/CyrilJl/isd-fetch) package. We download `winddirection` [degrees] and `windspeed` [m/s] for 1979-01-01 till 2024-12-31."
   ]
  },
  {
   "cell_type": "code",
   "execution_count": 7,
   "id": "92aed2df-f06b-45bf-996f-3c147b0728b3",
   "metadata": {},
   "outputs": [
    {
     "name": "stdout",
     "output_type": "stream",
     "text": [
      "/home/valencig/GPLLJ/\n",
      "/home/valencig/GPLLJ/data/\n",
      "/scratch/valencig/GPLLJ-Scratch/\n"
     ]
    }
   ],
   "source": [
    "import sys\n",
    "import os\n",
    "sys.path.append('../../')\n",
    "from setup import CWD, SCRATCH_DIR#, DATA_DIR\n",
    "print(CWD)\n",
    "DATA_DIR = os.path.join(CWD, 'data/')\n",
    "print(DATA_DIR)\n",
    "print(SCRATCH_DIR)"
   ]
  },
  {
   "cell_type": "code",
   "execution_count": 2,
   "id": "e709e4b7-1198-4869-a68b-60c88c9218ff",
   "metadata": {},
   "outputs": [
    {
     "data": {
      "text/html": [
       "<div>\n",
       "<style scoped>\n",
       "    .dataframe tbody tr th:only-of-type {\n",
       "        vertical-align: middle;\n",
       "    }\n",
       "\n",
       "    .dataframe tbody tr th {\n",
       "        vertical-align: top;\n",
       "    }\n",
       "\n",
       "    .dataframe thead th {\n",
       "        text-align: right;\n",
       "    }\n",
       "</style>\n",
       "<table border=\"1\" class=\"dataframe\">\n",
       "  <thead>\n",
       "    <tr style=\"text-align: right;\">\n",
       "      <th></th>\n",
       "      <th>USAF</th>\n",
       "      <th>WBAN</th>\n",
       "      <th>STATION NAME</th>\n",
       "      <th>CTRY</th>\n",
       "      <th>ST</th>\n",
       "      <th>CALL</th>\n",
       "      <th>ELEV(M)</th>\n",
       "      <th>BEGIN</th>\n",
       "      <th>END</th>\n",
       "      <th>x</th>\n",
       "      <th>y</th>\n",
       "      <th>geometry</th>\n",
       "    </tr>\n",
       "  </thead>\n",
       "  <tbody>\n",
       "    <tr>\n",
       "      <th>7606</th>\n",
       "      <td>325400</td>\n",
       "      <td>99999</td>\n",
       "      <td>YELIZOVO</td>\n",
       "      <td>RS</td>\n",
       "      <td>NaN</td>\n",
       "      <td>UHPP</td>\n",
       "      <td>39.9</td>\n",
       "      <td>1932-01-01</td>\n",
       "      <td>2025-05-25</td>\n",
       "      <td>158.454</td>\n",
       "      <td>53.168</td>\n",
       "      <td>POINT (158.454 53.168)</td>\n",
       "    </tr>\n",
       "    <tr>\n",
       "      <th>24430</th>\n",
       "      <td>868730</td>\n",
       "      <td>99999</td>\n",
       "      <td>PASSA QUATRO</td>\n",
       "      <td>BR</td>\n",
       "      <td>NaN</td>\n",
       "      <td>NaN</td>\n",
       "      <td>1041.5</td>\n",
       "      <td>2016-07-04</td>\n",
       "      <td>2025-01-03</td>\n",
       "      <td>-44.967</td>\n",
       "      <td>-22.400</td>\n",
       "      <td>POINT (-44.967 -22.4)</td>\n",
       "    </tr>\n",
       "    <tr>\n",
       "      <th>22557</th>\n",
       "      <td>767230</td>\n",
       "      <td>99999</td>\n",
       "      <td>ISLA SOCORRO  COL.</td>\n",
       "      <td>MX</td>\n",
       "      <td>NaN</td>\n",
       "      <td>NaN</td>\n",
       "      <td>35.0</td>\n",
       "      <td>1973-01-01</td>\n",
       "      <td>1997-12-30</td>\n",
       "      <td>-110.950</td>\n",
       "      <td>18.717</td>\n",
       "      <td>POINT (-110.95 18.717)</td>\n",
       "    </tr>\n",
       "    <tr>\n",
       "      <th>2462</th>\n",
       "      <td>067600</td>\n",
       "      <td>99999</td>\n",
       "      <td>LOCARNO-MONTI</td>\n",
       "      <td>CH</td>\n",
       "      <td>NaN</td>\n",
       "      <td>NaN</td>\n",
       "      <td>380.0</td>\n",
       "      <td>1973-01-01</td>\n",
       "      <td>2025-05-25</td>\n",
       "      <td>8.783</td>\n",
       "      <td>46.167</td>\n",
       "      <td>POINT (8.783 46.167)</td>\n",
       "    </tr>\n",
       "    <tr>\n",
       "      <th>20312</th>\n",
       "      <td>725690</td>\n",
       "      <td>24089</td>\n",
       "      <td>NATRONA COUNTY INTERNAT</td>\n",
       "      <td>US</td>\n",
       "      <td>WY</td>\n",
       "      <td>KCPR</td>\n",
       "      <td>1621.1</td>\n",
       "      <td>1940-01-01</td>\n",
       "      <td>2025-05-28</td>\n",
       "      <td>-106.474</td>\n",
       "      <td>42.898</td>\n",
       "      <td>POINT (-106.474 42.898)</td>\n",
       "    </tr>\n",
       "  </tbody>\n",
       "</table>\n",
       "</div>"
      ],
      "text/plain": [
       "         USAF   WBAN             STATION NAME CTRY   ST  CALL  ELEV(M)  \\\n",
       "7606   325400  99999                 YELIZOVO   RS  NaN  UHPP     39.9   \n",
       "24430  868730  99999             PASSA QUATRO   BR  NaN   NaN   1041.5   \n",
       "22557  767230  99999       ISLA SOCORRO  COL.   MX  NaN   NaN     35.0   \n",
       "2462   067600  99999            LOCARNO-MONTI   CH  NaN   NaN    380.0   \n",
       "20312  725690  24089  NATRONA COUNTY INTERNAT   US   WY  KCPR   1621.1   \n",
       "\n",
       "           BEGIN        END        x       y                 geometry  \n",
       "7606  1932-01-01 2025-05-25  158.454  53.168   POINT (158.454 53.168)  \n",
       "24430 2016-07-04 2025-01-03  -44.967 -22.400    POINT (-44.967 -22.4)  \n",
       "22557 1973-01-01 1997-12-30 -110.950  18.717   POINT (-110.95 18.717)  \n",
       "2462  1973-01-01 2025-05-25    8.783  46.167     POINT (8.783 46.167)  \n",
       "20312 1940-01-01 2025-05-28 -106.474  42.898  POINT (-106.474 42.898)  "
      ]
     },
     "execution_count": 2,
     "metadata": {},
     "output_type": "execute_result"
    }
   ],
   "source": [
    "from pyisd import IsdLite\n",
    "import polars as pl\n",
    "\n",
    "# Initialize the client\n",
    "isd = IsdLite(crs=4326, verbose=True)\n",
    "\n",
    "# View available stations\n",
    "isd.raw_metadata.sample(5)"
   ]
  },
  {
   "cell_type": "code",
   "execution_count": 3,
   "id": "6d2fb424-f201-45a4-b655-6be385e726b3",
   "metadata": {},
   "outputs": [],
   "source": [
    "# xmin, ymin, xmax, ymax\n",
    "geometry = (-105, 25, -90, 50)  # CNA region"
   ]
  },
  {
   "cell_type": "code",
   "execution_count": 4,
   "id": "bee76a18-2ab4-4f74-a592-7006fb797075",
   "metadata": {},
   "outputs": [
    {
     "data": {
      "application/vnd.jupyter.widget-view+json": {
       "model_id": "c2cc0c9ffc9749db990538d78890f581",
       "version_major": 2,
       "version_minor": 0
      },
      "text/plain": [
       "  0%|          | 0/1155 [00:00<?, ?it/s]"
      ]
     },
     "metadata": {},
     "output_type": "display_data"
    }
   ],
   "source": [
    "# Query the data -> satellite era, want complete years\n",
    "cna_data = isd.get_data(\n",
    "    start='1979-01-01',\n",
    "    end='2024-12-31',\n",
    "    geometry=geometry,\n",
    "    organize_by='field'\n",
    ")"
   ]
  },
  {
   "cell_type": "markdown",
   "id": "2e7b3210-c16b-4581-9555-c9b33f49646d",
   "metadata": {},
   "source": [
    "## Create dataframes"
   ]
  },
  {
   "cell_type": "code",
   "execution_count": 8,
   "id": "76c32b98-105e-4a53-bd88-8c6b535f767f",
   "metadata": {},
   "outputs": [
    {
     "data": {
      "text/html": [
       "<div><style>\n",
       ".dataframe > thead > tr,\n",
       ".dataframe > tbody > tr {\n",
       "  text-align: right;\n",
       "  white-space: pre-wrap;\n",
       "}\n",
       "</style>\n",
       "<small>shape: (327_034_128, 4)</small><table border=\"1\" class=\"dataframe\"><thead><tr><th>time</th><th>USAF</th><th>windspeed</th><th>winddirection</th></tr><tr><td>datetime[ns]</td><td>str</td><td>f64</td><td>f64</td></tr></thead><tbody><tr><td>1979-01-01 00:00:00</td><td>&quot;990179&quot;</td><td>null</td><td>null</td></tr><tr><td>1979-01-01 01:00:00</td><td>&quot;990179&quot;</td><td>null</td><td>null</td></tr><tr><td>1979-01-01 02:00:00</td><td>&quot;990179&quot;</td><td>null</td><td>null</td></tr><tr><td>1979-01-01 03:00:00</td><td>&quot;990179&quot;</td><td>null</td><td>null</td></tr><tr><td>1979-01-01 04:00:00</td><td>&quot;990179&quot;</td><td>null</td><td>null</td></tr><tr><td>&hellip;</td><td>&hellip;</td><td>&hellip;</td><td>&hellip;</td></tr><tr><td>2024-12-31 19:00:00</td><td>&quot;718425&quot;</td><td>null</td><td>null</td></tr><tr><td>2024-12-31 20:00:00</td><td>&quot;718425&quot;</td><td>null</td><td>null</td></tr><tr><td>2024-12-31 21:00:00</td><td>&quot;718425&quot;</td><td>null</td><td>null</td></tr><tr><td>2024-12-31 22:00:00</td><td>&quot;718425&quot;</td><td>null</td><td>null</td></tr><tr><td>2024-12-31 23:00:00</td><td>&quot;718425&quot;</td><td>null</td><td>null</td></tr></tbody></table></div>"
      ],
      "text/plain": [
       "shape: (327_034_128, 4)\n",
       "┌─────────────────────┬────────┬───────────┬───────────────┐\n",
       "│ time                ┆ USAF   ┆ windspeed ┆ winddirection │\n",
       "│ ---                 ┆ ---    ┆ ---       ┆ ---           │\n",
       "│ datetime[ns]        ┆ str    ┆ f64       ┆ f64           │\n",
       "╞═════════════════════╪════════╪═══════════╪═══════════════╡\n",
       "│ 1979-01-01 00:00:00 ┆ 990179 ┆ null      ┆ null          │\n",
       "│ 1979-01-01 01:00:00 ┆ 990179 ┆ null      ┆ null          │\n",
       "│ 1979-01-01 02:00:00 ┆ 990179 ┆ null      ┆ null          │\n",
       "│ 1979-01-01 03:00:00 ┆ 990179 ┆ null      ┆ null          │\n",
       "│ 1979-01-01 04:00:00 ┆ 990179 ┆ null      ┆ null          │\n",
       "│ …                   ┆ …      ┆ …         ┆ …             │\n",
       "│ 2024-12-31 19:00:00 ┆ 718425 ┆ null      ┆ null          │\n",
       "│ 2024-12-31 20:00:00 ┆ 718425 ┆ null      ┆ null          │\n",
       "│ 2024-12-31 21:00:00 ┆ 718425 ┆ null      ┆ null          │\n",
       "│ 2024-12-31 22:00:00 ┆ 718425 ┆ null      ┆ null          │\n",
       "│ 2024-12-31 23:00:00 ┆ 718425 ┆ null      ┆ null          │\n",
       "└─────────────────────┴────────┴───────────┴───────────────┘"
      ]
     },
     "execution_count": 8,
     "metadata": {},
     "output_type": "execute_result"
    }
   ],
   "source": [
    "windspeed = pl.from_pandas(cna_data['windspeed'].reset_index(drop=False))\\\n",
    "    .unpivot(\n",
    "        index='index',\n",
    "        variable_name='station',\n",
    "        value_name='windspeed'\n",
    "    ).rename({'index': 'time', 'station': 'USAF'})\n",
    "winddirection = pl.from_pandas(cna_data['winddirection'].reset_index(drop=False))\\\n",
    "    .unpivot(\n",
    "        index='index',\n",
    "        variable_name='station',\n",
    "        value_name='winddirection'\n",
    "    ).rename({'index': 'time', 'station': 'USAF'})\n",
    "wind_df = windspeed.join(winddirection, how='left', on=['USAF', 'time'])\n",
    "wind_df"
   ]
  },
  {
   "cell_type": "markdown",
   "id": "83204967-b46a-4015-9f44-916e05ef13ac",
   "metadata": {},
   "source": [
    "## Filter metadata to CNA stations\n",
    "\n",
    "A station can close then reopen so the same USAF number can have multiple listings in the metadata, this is okay we just need to keep it in mind in the future."
   ]
  },
  {
   "cell_type": "code",
   "execution_count": 14,
   "id": "c12d4cb7-1713-4865-995b-46683cfb0c7b",
   "metadata": {},
   "outputs": [
    {
     "name": "stderr",
     "output_type": "stream",
     "text": [
      "/tmp/ipykernel_2147159/3074466151.py:6: DeprecationWarning: `is_in` with a collection of the same datatype is ambiguous and deprecated.\n",
      "Please use `implode` to return to previous behavior.\n",
      "\n",
      "See https://github.com/pola-rs/polars/issues/22149 for more information.\n",
      "  metadata = raw_metadata.filter(pl.col('USAF').is_in(wind_df['USAF'].unique()))\n"
     ]
    },
    {
     "data": {
      "text/html": [
       "<div><style>\n",
       ".dataframe > thead > tr,\n",
       ".dataframe > tbody > tr {\n",
       "  text-align: right;\n",
       "  white-space: pre-wrap;\n",
       "}\n",
       "</style>\n",
       "<small>shape: (1_308, 10)</small><table border=\"1\" class=\"dataframe\"><thead><tr><th>USAF</th><th>WBAN</th><th>STATION NAME</th><th>ST</th><th>CALL</th><th>ELEV(M)</th><th>BEGIN</th><th>END</th><th>lon</th><th>lat</th></tr><tr><td>str</td><td>i64</td><td>str</td><td>str</td><td>str</td><td>f64</td><td>datetime[ns]</td><td>datetime[ns]</td><td>f64</td><td>f64</td></tr></thead><tbody><tr><td>&quot;690190&quot;</td><td>13910</td><td>&quot;ABILENE DYESS AFB&quot;</td><td>&quot;TX&quot;</td><td>&quot;KDYS&quot;</td><td>545.3</td><td>1943-12-01 00:00:00</td><td>1997-12-31 00:00:00</td><td>-99.85</td><td>32.433</td></tr><tr><td>&quot;690190&quot;</td><td>99999</td><td>&quot;DYESS AFB/ABILENE&quot;</td><td>&quot;TX&quot;</td><td>null</td><td>545.0</td><td>2000-01-03 00:00:00</td><td>2004-12-30 00:00:00</td><td>-99.85</td><td>32.417</td></tr><tr><td>&quot;690280&quot;</td><td>99999</td><td>&quot;PORT ISABEL (CGS)&quot;</td><td>&quot;TX&quot;</td><td>null</td><td>5.0</td><td>1982-06-27 00:00:00</td><td>1983-11-16 00:00:00</td><td>-97.167</td><td>26.067</td></tr><tr><td>&quot;690290&quot;</td><td>99999</td><td>&quot;PORT ARANSAS&quot;</td><td>&quot;TX&quot;</td><td>null</td><td>2.0</td><td>1982-06-25 00:00:00</td><td>2004-11-29 00:00:00</td><td>-97.067</td><td>27.833</td></tr><tr><td>&quot;690500&quot;</td><td>99999</td><td>&quot;FORT CHAFFEE&quot;</td><td>&quot;AR&quot;</td><td>&quot;KQCU&quot;</td><td>143.0</td><td>1983-01-19 00:00:00</td><td>1983-01-19 00:00:00</td><td>-94.2</td><td>35.167</td></tr><tr><td>&hellip;</td><td>&hellip;</td><td>&hellip;</td><td>&hellip;</td><td>&hellip;</td><td>&hellip;</td><td>&hellip;</td><td>&hellip;</td><td>&hellip;</td><td>&hellip;</td></tr><tr><td>&quot;998482&quot;</td><td>99999</td><td>&quot;TEXAS STATE AQUARIUM&quot;</td><td>&quot;TX&quot;</td><td>null</td><td>8.0</td><td>2011-10-06 00:00:00</td><td>2025-05-25 00:00:00</td><td>-97.39</td><td>27.812</td></tr><tr><td>&quot;998483&quot;</td><td>99999</td><td>&quot;S PADRE ISLAND CGS&quot;</td><td>&quot;TX&quot;</td><td>null</td><td>10.0</td><td>2011-10-06 00:00:00</td><td>2025-05-25 00:00:00</td><td>-97.177</td><td>26.077</td></tr><tr><td>&quot;998484&quot;</td><td>99999</td><td>&quot;COPANO BAY&quot;</td><td>&quot;TX&quot;</td><td>null</td><td>10.0</td><td>2011-10-06 00:00:00</td><td>2017-10-06 00:00:00</td><td>-97.022</td><td>28.118</td></tr><tr><td>&quot;998487&quot;</td><td>99999</td><td>&quot;PORT LAVACA&quot;</td><td>&quot;TX&quot;</td><td>null</td><td>10.0</td><td>2011-10-06 00:00:00</td><td>2025-05-25 00:00:00</td><td>-96.595</td><td>28.64</td></tr><tr><td>&quot;998490&quot;</td><td>99999</td><td>&quot;TEXAS POINT&quot;</td><td>&quot;TX&quot;</td><td>null</td><td>11.4</td><td>2012-01-14 00:00:00</td><td>2025-05-25 00:00:00</td><td>-93.842</td><td>29.689</td></tr></tbody></table></div>"
      ],
      "text/plain": [
       "shape: (1_308, 10)\n",
       "┌────────┬───────┬─────────────────┬─────┬───┬─────────────────┬────────────────┬─────────┬────────┐\n",
       "│ USAF   ┆ WBAN  ┆ STATION NAME    ┆ ST  ┆ … ┆ BEGIN           ┆ END            ┆ lon     ┆ lat    │\n",
       "│ ---    ┆ ---   ┆ ---             ┆ --- ┆   ┆ ---             ┆ ---            ┆ ---     ┆ ---    │\n",
       "│ str    ┆ i64   ┆ str             ┆ str ┆   ┆ datetime[ns]    ┆ datetime[ns]   ┆ f64     ┆ f64    │\n",
       "╞════════╪═══════╪═════════════════╪═════╪═══╪═════════════════╪════════════════╪═════════╪════════╡\n",
       "│ 690190 ┆ 13910 ┆ ABILENE DYESS   ┆ TX  ┆ … ┆ 1943-12-01      ┆ 1997-12-31     ┆ -99.85  ┆ 32.433 │\n",
       "│        ┆       ┆ AFB             ┆     ┆   ┆ 00:00:00        ┆ 00:00:00       ┆         ┆        │\n",
       "│ 690190 ┆ 99999 ┆ DYESS           ┆ TX  ┆ … ┆ 2000-01-03      ┆ 2004-12-30     ┆ -99.85  ┆ 32.417 │\n",
       "│        ┆       ┆ AFB/ABILENE     ┆     ┆   ┆ 00:00:00        ┆ 00:00:00       ┆         ┆        │\n",
       "│ 690280 ┆ 99999 ┆ PORT ISABEL     ┆ TX  ┆ … ┆ 1982-06-27      ┆ 1983-11-16     ┆ -97.167 ┆ 26.067 │\n",
       "│        ┆       ┆ (CGS)           ┆     ┆   ┆ 00:00:00        ┆ 00:00:00       ┆         ┆        │\n",
       "│ 690290 ┆ 99999 ┆ PORT ARANSAS    ┆ TX  ┆ … ┆ 1982-06-25      ┆ 2004-11-29     ┆ -97.067 ┆ 27.833 │\n",
       "│        ┆       ┆                 ┆     ┆   ┆ 00:00:00        ┆ 00:00:00       ┆         ┆        │\n",
       "│ 690500 ┆ 99999 ┆ FORT CHAFFEE    ┆ AR  ┆ … ┆ 1983-01-19      ┆ 1983-01-19     ┆ -94.2   ┆ 35.167 │\n",
       "│        ┆       ┆                 ┆     ┆   ┆ 00:00:00        ┆ 00:00:00       ┆         ┆        │\n",
       "│ …      ┆ …     ┆ …               ┆ …   ┆ … ┆ …               ┆ …              ┆ …       ┆ …      │\n",
       "│ 998482 ┆ 99999 ┆ TEXAS STATE     ┆ TX  ┆ … ┆ 2011-10-06      ┆ 2025-05-25     ┆ -97.39  ┆ 27.812 │\n",
       "│        ┆       ┆ AQUARIUM        ┆     ┆   ┆ 00:00:00        ┆ 00:00:00       ┆         ┆        │\n",
       "│ 998483 ┆ 99999 ┆ S PADRE ISLAND  ┆ TX  ┆ … ┆ 2011-10-06      ┆ 2025-05-25     ┆ -97.177 ┆ 26.077 │\n",
       "│        ┆       ┆ CGS             ┆     ┆   ┆ 00:00:00        ┆ 00:00:00       ┆         ┆        │\n",
       "│ 998484 ┆ 99999 ┆ COPANO BAY      ┆ TX  ┆ … ┆ 2011-10-06      ┆ 2017-10-06     ┆ -97.022 ┆ 28.118 │\n",
       "│        ┆       ┆                 ┆     ┆   ┆ 00:00:00        ┆ 00:00:00       ┆         ┆        │\n",
       "│ 998487 ┆ 99999 ┆ PORT LAVACA     ┆ TX  ┆ … ┆ 2011-10-06      ┆ 2025-05-25     ┆ -96.595 ┆ 28.64  │\n",
       "│        ┆       ┆                 ┆     ┆   ┆ 00:00:00        ┆ 00:00:00       ┆         ┆        │\n",
       "│ 998490 ┆ 99999 ┆ TEXAS POINT     ┆ TX  ┆ … ┆ 2012-01-14      ┆ 2025-05-25     ┆ -93.842 ┆ 29.689 │\n",
       "│        ┆       ┆                 ┆     ┆   ┆ 00:00:00        ┆ 00:00:00       ┆         ┆        │\n",
       "└────────┴───────┴─────────────────┴─────┴───┴─────────────────┴────────────────┴─────────┴────────┘"
      ]
     },
     "execution_count": 14,
     "metadata": {},
     "output_type": "execute_result"
    }
   ],
   "source": [
    "raw_metadata = pl.from_pandas(isd.raw_metadata[['USAF', 'WBAN', 'STATION NAME', 'ST', 'CALL', 'ELEV(M)', 'BEGIN', 'END', 'x', 'y']])\\\n",
    "    .rename({\n",
    "        'x': 'lon',\n",
    "        'y': 'lat',\n",
    "    })\n",
    "metadata = raw_metadata.filter(pl.col('USAF').is_in(wind_df['USAF'].unique()))\n",
    "metadata"
   ]
  },
  {
   "cell_type": "markdown",
   "id": "a91ad2fc-724c-4363-8fe3-ca48acaeb98f",
   "metadata": {},
   "source": [
    "## Save dataframes\n",
    "\n",
    "Whole ISD lite is a little over 13 GB"
   ]
  },
  {
   "cell_type": "code",
   "execution_count": 15,
   "id": "7f0cde3f-f1e1-458f-b455-9d8e581994fc",
   "metadata": {},
   "outputs": [],
   "source": [
    "isd_lite_metadata = os.path.join(DATA_DIR, 'isd_lite_cna_metadata.csv')\n",
    "isd_lite_file = os.path.join(SCRATCH_DIR, 'isd_lite_cna.csv')\n",
    "\n",
    "metadata.write_csv(isd_lite_metadata)\n",
    "wind_df.write_csv(isd_lite_file)"
   ]
  }
 ],
 "metadata": {
  "kernelspec": {
   "display_name": "llj",
   "language": "python",
   "name": "llj"
  },
  "language_info": {
   "codemirror_mode": {
    "name": "ipython",
    "version": 3
   },
   "file_extension": ".py",
   "mimetype": "text/x-python",
   "name": "python",
   "nbconvert_exporter": "python",
   "pygments_lexer": "ipython3",
   "version": "3.12.10"
  }
 },
 "nbformat": 4,
 "nbformat_minor": 5
}
