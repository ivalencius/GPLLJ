{
 "cells": [
  {
   "cell_type": "markdown",
   "id": "cb3dc6c1-c7f7-437d-a05c-fef7326c5023",
   "metadata": {},
   "source": [
    "# GHCNh\n",
    "\n",
    ">The Global Historical Climatology Network hourly (GHCNh) is a next generation hourly/synoptic dataset that replaces the Integrated Surface Dataset (ISD). GHCNh consists of hourly and synoptic surface weather observations from fixed, land-based stations. This dataset is compiled from numerous data sources maintained by NOAA, the U.S. Air Force, and many other meteorological agencies (Met Services) around the world. These sources have been reformatted into a common data format and then harmonized into a set of unique period-of-record station files, which are then provided as GHCNh.\n",
    "\n",
    "We download the raw files then format them.\n",
    "\n",
    "[PDF documentation (https://www.ncei.noaa.gov/oa/global-historical-climatology-network/hourly/doc/ghcnh_DOCUMENTATION.pdf)](https://www.ncei.noaa.gov/oa/global-historical-climatology-network/hourly/doc/ghcnh_DOCUMENTATION.pdf)."
   ]
  },
  {
   "cell_type": "code",
   "execution_count": 1,
   "id": "f76f1970-6f5f-4589-a17e-a875cd2f18c7",
   "metadata": {},
   "outputs": [
    {
     "name": "stdout",
     "output_type": "stream",
     "text": [
      "/home/valencig/GPLLJ/\n",
      "/home/valencig/GPLLJ/data/\n",
      "/home/valencig/GPLLJ/figures/\n",
      "/scratch/valencig/GPLLJ-Scratch/\n"
     ]
    }
   ],
   "source": [
    "import sys\n",
    "import os\n",
    "sys.path.append('../../')\n",
    "from setup import CWD, SCRATCH_DIR, DATA_DIR, FIG_DIR\n",
    "print(CWD)\n",
    "print(DATA_DIR)\n",
    "print(FIG_DIR)\n",
    "print(SCRATCH_DIR)"
   ]
  },
  {
   "cell_type": "code",
   "execution_count": 2,
   "id": "ade2c109-5051-4338-a7c9-e620ad549d6d",
   "metadata": {},
   "outputs": [
    {
     "name": "stderr",
     "output_type": "stream",
     "text": [
      "File ‘/home/valencig/GPLLJ/data/ghcnh-station-list.csv’ already there; not retrieving.\n",
      "\n"
     ]
    },
    {
     "data": {
      "text/plain": [
       "0"
      ]
     },
     "execution_count": 2,
     "metadata": {},
     "output_type": "execute_result"
    }
   ],
   "source": [
    "os.system(f'wget -nc -P {DATA_DIR} https://www.ncei.noaa.gov/oa/global-historical-climatology-network/hourly/doc/ghcnh-station-list.csv')"
   ]
  },
  {
   "cell_type": "markdown",
   "id": "e449109b-91e1-4209-989f-585ab92529d5",
   "metadata": {},
   "source": [
    "## Parse station list\n",
    "\n",
    "> ID, 1-11, Character\n",
    "> \n",
    "> LATITUDE,13-20, Real\n",
    "> \n",
    "> LONGITUDE, 22-30, Real"
   ]
  },
  {
   "cell_type": "code",
   "execution_count": 3,
   "id": "ac274a38-d295-4d7f-ad6d-8a668add3244",
   "metadata": {},
   "outputs": [
    {
     "data": {
      "text/html": [
       "<div><style>\n",
       ".dataframe > thead > tr,\n",
       ".dataframe > tbody > tr {\n",
       "  text-align: right;\n",
       "  white-space: pre-wrap;\n",
       "}\n",
       "</style>\n",
       "<small>shape: (2_005, 3)</small><table border=\"1\" class=\"dataframe\"><thead><tr><th>id</th><th>lat</th><th>lon</th></tr><tr><td>str</td><td>f32</td><td>f32</td></tr></thead><tbody><tr><td>&quot;CAM00071843&quot;</td><td>49.799999</td><td>-97.133301</td></tr><tr><td>&quot;CAM00071847&quot;</td><td>49.833302</td><td>-92.75</td></tr><tr><td>&quot;CAN04012400&quot;</td><td>49.220001</td><td>-102.970001</td></tr><tr><td>&quot;CAN04019041&quot;</td><td>49.817001</td><td>-104.182999</td></tr><tr><td>&quot;CAN0401HP5R&quot;</td><td>49.700001</td><td>-103.800003</td></tr><tr><td>&hellip;</td><td>&hellip;</td><td>&hellip;</td></tr><tr><td>&quot;USW00094995&quot;</td><td>40.848301</td><td>-96.565002</td></tr><tr><td>&quot;USW00094996&quot;</td><td>40.695301</td><td>-96.854202</td></tr><tr><td>&quot;USW00094997&quot;</td><td>46.446701</td><td>-95.2117</td></tr><tr><td>&quot;USW00094998&quot;</td><td>41.700001</td><td>-94.916702</td></tr><tr><td>&quot;USW00094999&quot;</td><td>46.547501</td><td>-93.676697</td></tr></tbody></table></div>"
      ],
      "text/plain": [
       "shape: (2_005, 3)\n",
       "┌─────────────┬───────────┬─────────────┐\n",
       "│ id          ┆ lat       ┆ lon         │\n",
       "│ ---         ┆ ---       ┆ ---         │\n",
       "│ str         ┆ f32       ┆ f32         │\n",
       "╞═════════════╪═══════════╪═════════════╡\n",
       "│ CAM00071843 ┆ 49.799999 ┆ -97.133301  │\n",
       "│ CAM00071847 ┆ 49.833302 ┆ -92.75      │\n",
       "│ CAN04012400 ┆ 49.220001 ┆ -102.970001 │\n",
       "│ CAN04019041 ┆ 49.817001 ┆ -104.182999 │\n",
       "│ CAN0401HP5R ┆ 49.700001 ┆ -103.800003 │\n",
       "│ …           ┆ …         ┆ …           │\n",
       "│ USW00094995 ┆ 40.848301 ┆ -96.565002  │\n",
       "│ USW00094996 ┆ 40.695301 ┆ -96.854202  │\n",
       "│ USW00094997 ┆ 46.446701 ┆ -95.2117    │\n",
       "│ USW00094998 ┆ 41.700001 ┆ -94.916702  │\n",
       "│ USW00094999 ┆ 46.547501 ┆ -93.676697  │\n",
       "└─────────────┴───────────┴─────────────┘"
      ]
     },
     "execution_count": 3,
     "metadata": {},
     "output_type": "execute_result"
    }
   ],
   "source": [
    "import polars as pl\n",
    "\n",
    "metadata = pl.read_csv(\n",
    "    os.path.join(DATA_DIR, 'ghcnh-station-list.csv'),\n",
    "    has_header=False,\n",
    "    infer_schema_length=False, # read as string\n",
    "    truncate_ragged_lines=True,\n",
    "    )\\\n",
    "    .rename({\n",
    "        'column_1': 'id',\n",
    "        'column_2': 'lat',\n",
    "        'column_3': 'lon',\n",
    "    })\\\n",
    "    .with_columns(\n",
    "        pl.col('lat').str.strip_chars().cast(pl.Float32),\n",
    "        pl.col('lon').str.strip_chars().cast(pl.Float32),\n",
    "    )\n",
    "# Only get CNA stations\n",
    "cna_metadata = metadata.filter(\n",
    "    (pl.col('lon') <= -90) &\n",
    "    (pl.col('lon') >= -105) &\n",
    "    (pl.col('lat') <= 50) &\n",
    "    (pl.col('lat') >= 25)\n",
    ").select(['id', 'lat', 'lon'])\n",
    "cna_metadata"
   ]
  },
  {
   "cell_type": "markdown",
   "id": "a4cb3fad-14c2-45bc-83a3-0ae5a328f04f",
   "metadata": {},
   "source": [
    "## Sanity check \n",
    "\n",
    "Make sure all potential stations are in the right area"
   ]
  },
  {
   "cell_type": "code",
   "execution_count": 4,
   "id": "143876f7-3254-48ab-9928-f9d91618a2c3",
   "metadata": {},
   "outputs": [
    {
     "data": {
      "image/png": "[encoded data removed]",
      "text/plain": [
       "<Figure size 640x480 with 1 Axes>"
      ]
     },
     "metadata": {},
     "output_type": "display_data"
    }
   ],
   "source": [
    "import matplotlib.pyplot as plt\n",
    "import cartopy.crs as ccrs\n",
    "import cartopy.feature as cfeature\n",
    "from cartopy.mpl.ticker import LongitudeFormatter, LatitudeFormatter\n",
    "\n",
    "def add_latlon(ax):\n",
    "    gl = ax.gridlines(\n",
    "        crs=ccrs.PlateCarree(), draw_labels=True, which='both',\n",
    "        linewidth=1, color='k', alpha=1, linestyle='--'\n",
    "    )\n",
    "    gl.right_labels = None\n",
    "    gl.top_labels = None\n",
    "    gl.xlines = None\n",
    "    gl.ylines = None\n",
    "    lon_formatter = LongitudeFormatter(zero_direction_label=True)\n",
    "    lat_formatter = LatitudeFormatter()\n",
    "    ax.xaxis.set_major_formatter(lon_formatter)\n",
    "    ax.yaxis.set_major_formatter(lat_formatter)\n",
    "    # Increase the ticksize\n",
    "    gl.xlabel_style = {'size': 10, 'color': 'k', 'rotation':30, 'ha':'right'}\n",
    "    gl.ylabel_style = {'size': 10, 'color': 'k', 'weight': 'normal'}\n",
    "\n",
    "fig, ax = plt.subplots(subplot_kw={'projection': ccrs.PlateCarree()})\n",
    "\n",
    "# Plot 1: locations of all the sites\n",
    "pts = ax.scatter(cna_metadata['lon'], cna_metadata['lat'], transform=ccrs.PlateCarree(), c='k', s=2)\n",
    "ax.add_feature(cfeature.STATES, linewidth=0.4)\n",
    "ax.add_feature(cfeature.COASTLINE, linewidth=1)\n",
    "add_latlon(ax)\n",
    "ax.set_title(f'Locations of GHCNh Stations (n={len(cna_metadata)})')\n",
    "for spine in ax.spines.values():\n",
    "    spine.set_linewidth(1.5)\n",
    "plt.show()"
   ]
  },
  {
   "cell_type": "markdown",
   "id": "d387cab4-aeb7-4ae3-9ed5-777d713a1f06",
   "metadata": {},
   "source": [
    "## Set up directories and save files"
   ]
  },
  {
   "cell_type": "code",
   "execution_count": 5,
   "id": "7ffa9d2b-c98b-4105-ba8a-ed2c00bbaebf",
   "metadata": {},
   "outputs": [
    {
     "name": "stdout",
     "output_type": "stream",
     "text": [
      "I prefer to run this in a terminal rather than using os.system()\n",
      "wget -nc -P /scratch/valencig/GPLLJ-Scratch/GHCNh/ -i /home/valencig/GPLLJ/data/ghcnh_station_download_links.txt\n"
     ]
    }
   ],
   "source": [
    "from IPython.display import clear_output\n",
    "GHCNh_dir = os.path.join(SCRATCH_DIR, 'GHCNh/')\n",
    "if not os.path.exists(GHCNh_dir):\n",
    "    os.mkdir(GHCNh_dir)\n",
    "\n",
    "from tqdm import tqdm\n",
    "import numpy as np\n",
    "# Now download files\n",
    "ids = cna_metadata['id'].to_numpy()\n",
    "wget_file = os.path.join(DATA_DIR, 'ghcnh_station_download_links.txt')\n",
    "requests = [\n",
    "    f'https://www.ncei.noaa.gov/oa/global-historical-climatology-network/hourly/access/by-station/GHCNh_{station}_por.psv\\n' \\\n",
    "    for station in ids\n",
    "]\n",
    "with open(wget_file, 'w') as f:\n",
    "    f.writelines(requests)\n",
    "\n",
    "\n",
    "# clear_output(wait=True) # Unique output for each file\n",
    "# print(f'Downloading Station {i+1}/{len(ids)}')\n",
    "print('I prefer to run this in a terminal rather than using os.system()')\n",
    "print(f'wget -nc -P {GHCNh_dir} -i {wget_file}')"
   ]
  },
  {
   "cell_type": "code",
   "execution_count": 6,
   "id": "dac07469-1bca-407f-a679-7a5fb8681237",
   "metadata": {},
   "outputs": [
    {
     "name": "stdout",
     "output_type": "stream",
     "text": [
      "399G\t/scratch/valencig/GPLLJ-Scratch/GHCNh/\n"
     ]
    },
    {
     "data": {
      "text/plain": [
       "0"
      ]
     },
     "execution_count": 6,
     "metadata": {},
     "output_type": "execute_result"
    }
   ],
   "source": [
    "os.system(f'du -sh {GHCNh_dir}')"
   ]
  },
  {
   "cell_type": "markdown",
   "id": "f8f980e6-edc7-4972-9838-0816e7b82b97",
   "metadata": {},
   "source": [
    "## Preprocess and save to one large dataframe\n",
    "\n",
    "We will extract variables `wind_speed`,`wind_direction`, and `wind_gust`. Descriptions are as follows:\n",
    "\n",
    "> wind_direction = Wind Direction from true north using compass directions (e.g. 360 = true north,\n",
    "180 = south, 270 = west, etc.). Note: A direction of “000” is given for calm winds.(whole\n",
    "degrees)\n",
    "\n",
    "> wind_speed = Wind Speed (meters per second)\n",
    "\n",
    "> wind_gust = Peak short duration (usually < 20 seconds) wind speed (meters per second) that\n",
    "exceeds the wind_speed average\n",
    "\n",
    "Each variable has some unique identifiers. From the documentation:\n",
    "\n",
    "> variable (see section IV, Table 1)\n",
    ">\n",
    "> variable_Measurement_Code (see section V, Table 2)\n",
    ">\n",
    "> variable_Quality_Code (see section VI, Table 3)\n",
    ">\n",
    "> variable_Report_Type (see section VII, Table 4)\n",
    ">\n",
    "> variable_Source_Code (see section XI, Table 6)\n",
    "\n",
    "The quality codes are documented in Dunn et al. (2016) ([https://gi.copernicus.org/preprints/gi-2016-9/gi-2016-9.pdf](https://gi.copernicus.org/preprints/gi-2016-9/gi-2016-9.pdf)). We currently ignore all quality and measurement codes.\n",
    "\n",
    "Times are also corrected to Central Standard Time (CST, -6 UTC) in order to facilitate the study of diurnal variations."
   ]
  },
  {
   "cell_type": "code",
   "execution_count": 7,
   "id": "631cf3ba-8ab6-428a-8a88-4cb50ec854ef",
   "metadata": {},
   "outputs": [],
   "source": [
    "schema_overrides = {\n",
    "    'Year': pl.Int16,\n",
    "    'Month': pl.Int16,\n",
    "    'Day': pl.Int16,\n",
    "    'Hour': pl.Int16,\n",
    "    'Minute': pl.Int16,\n",
    "    'wind_speed': pl.Float32,\n",
    "    'wind_direction': pl.Float32,\n",
    "    'Latitude': pl.Float32,\n",
    "    'Longitude': pl.Float32,\n",
    "}\n",
    "cols_to_keep = [\n",
    "    'Station_ID',\n",
    "    'Station_name',\n",
    "    'Latitude',\n",
    "    'Longitude',\n",
    "    'time',\n",
    "    'wind_speed',\n",
    "    'wind_direction',\n",
    "]\n",
    "df = pl.scan_csv(\n",
    "    f'{GHCNh_dir}*.psv',\n",
    "    separator='|', # pipe separated\n",
    "    infer_schema_length=False, # read everything as a string\n",
    "    schema_overrides=schema_overrides,\n",
    "    ignore_errors=True, # some wind direction measurements are odd (e.g. \"AA1\")\n",
    "    )\n",
    "parsed = (\n",
    "    df\n",
    "    # There are one or two lines where wind_direction was improperly coded\n",
    "    .filter(pl.col('wind_direction') >= 0)\n",
    "    .filter(pl.col('wind_direction') <= 360)\n",
    "    # Remove stations with no wind speed\n",
    "    .filter(pl.col('wind_speed') >= 0)\n",
    "    # Create a time column\n",
    "    .with_columns(\n",
    "        pl.datetime(\n",
    "            pl.col('Year'), pl.col('Month'), pl.col('Day'), pl.col('Hour'), pl.col('Minute'),\n",
    "        ).alias('time'))\n",
    "    # Convert to CST\n",
    "    .with_columns(time=pl.col('time').dt.offset_by('-6h'))\n",
    "    .select(cols_to_keep)\n",
    ")\n",
    "\n",
    "GHCNh_file = os.path.join(SCRATCH_DIR, 'GHCNh_cna.parquet')\n",
    "parsed.sink_parquet(GHCNh_file)"
   ]
  },
  {
   "cell_type": "code",
   "execution_count": 8,
   "id": "15f5687e-bc84-4000-bf07-bb8090153686",
   "metadata": {},
   "outputs": [
    {
     "name": "stdout",
     "output_type": "stream",
     "text": [
      "total 3.6G\n",
      "   0 drwxr-xr-x 1 valencig valencig    0 May 29 17:13 GHCNh\n",
      "1.8G -rw-r--r-- 1 valencig valencig 1.8G May 30 14:50 GHCNh_cna.parquet\n",
      "1.8G -rw-r--r-- 1 valencig valencig 1.8G May 28 16:05 isd_lite_cna.csv\n"
     ]
    },
    {
     "data": {
      "text/plain": [
       "0"
      ]
     },
     "execution_count": 8,
     "metadata": {},
     "output_type": "execute_result"
    }
   ],
   "source": [
    "os.system(f'ls -lhs {SCRATCH_DIR}')"
   ]
  }
 ],
 "metadata": {
  "kernelspec": {
   "display_name": "llj",
   "language": "python",
   "name": "llj"
  },
  "language_info": {
   "codemirror_mode": {
    "name": "ipython",
    "version": 3
   },
   "file_extension": ".py",
   "mimetype": "text/x-python",
   "name": "python",
   "nbconvert_exporter": "python",
   "pygments_lexer": "ipython3",
   "version": "3.12.10"
  }
 },
 "nbformat": 4,
 "nbformat_minor": 5
}
